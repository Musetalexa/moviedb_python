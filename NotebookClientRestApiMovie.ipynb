{
 "cells": [
  {
   "cell_type": "code",
   "execution_count": 89,
   "metadata": {},
   "outputs": [],
   "source": [
    "import pandas as pd\n",
    "import requests\n",
    "import numpy as np\n",
    "from datetime import datetime, date\n",
    "import matplotlib.pyplot as plt\n",
    "import matplotlib.ticker as ticker\n",
    "import matplotlib.dates as mdates"
   ]
  },
  {
   "cell_type": "code",
   "execution_count": 5,
   "metadata": {},
   "outputs": [
    {
     "data": {
      "text/html": [
       "<div>\n",
       "<style scoped>\n",
       "    .dataframe tbody tr th:only-of-type {\n",
       "        vertical-align: middle;\n",
       "    }\n",
       "\n",
       "    .dataframe tbody tr th {\n",
       "        vertical-align: top;\n",
       "    }\n",
       "\n",
       "    .dataframe thead th {\n",
       "        text-align: right;\n",
       "    }\n",
       "</style>\n",
       "<table border=\"1\" class=\"dataframe\">\n",
       "  <thead>\n",
       "    <tr style=\"text-align: right;\">\n",
       "      <th></th>\n",
       "      <th>title</th>\n",
       "      <th>year</th>\n",
       "      <th>duration</th>\n",
       "    </tr>\n",
       "    <tr>\n",
       "      <th>id</th>\n",
       "      <th></th>\n",
       "      <th></th>\n",
       "      <th></th>\n",
       "    </tr>\n",
       "  </thead>\n",
       "  <tbody>\n",
       "    <tr>\n",
       "      <th>5257</th>\n",
       "      <td>Excuse Me</td>\n",
       "      <td>1915</td>\n",
       "      <td>50.0</td>\n",
       "    </tr>\n",
       "    <tr>\n",
       "      <th>6366</th>\n",
       "      <td>Anton the Terrible</td>\n",
       "      <td>1916</td>\n",
       "      <td>50.0</td>\n",
       "    </tr>\n",
       "    <tr>\n",
       "      <th>8351</th>\n",
       "      <td>The Mysterious Mrs. Musslewhite</td>\n",
       "      <td>1917</td>\n",
       "      <td>50.0</td>\n",
       "    </tr>\n",
       "    <tr>\n",
       "      <th>8384</th>\n",
       "      <td>On the Level</td>\n",
       "      <td>1917</td>\n",
       "      <td>50.0</td>\n",
       "    </tr>\n",
       "    <tr>\n",
       "      <th>8642</th>\n",
       "      <td>The Sunset Trail</td>\n",
       "      <td>1917</td>\n",
       "      <td>50.0</td>\n",
       "    </tr>\n",
       "    <tr>\n",
       "      <th>...</th>\n",
       "      <td>...</td>\n",
       "      <td>...</td>\n",
       "      <td>...</td>\n",
       "    </tr>\n",
       "    <tr>\n",
       "      <th>11744604</th>\n",
       "      <td>Guardians of Life</td>\n",
       "      <td>2020</td>\n",
       "      <td>3.0</td>\n",
       "    </tr>\n",
       "    <tr>\n",
       "      <th>11833768</th>\n",
       "      <td>Neil Cicierega: Wow Wow (Audio)</td>\n",
       "      <td>2017</td>\n",
       "      <td>3.0</td>\n",
       "    </tr>\n",
       "    <tr>\n",
       "      <th>11885402</th>\n",
       "      <td>Dan Aykroyd and Tom Hanks: City of Crime</td>\n",
       "      <td>1987</td>\n",
       "      <td>NaN</td>\n",
       "    </tr>\n",
       "    <tr>\n",
       "      <th>11911992</th>\n",
       "      <td>Bleu de Chanel: The Film</td>\n",
       "      <td>2018</td>\n",
       "      <td>1.0</td>\n",
       "    </tr>\n",
       "    <tr>\n",
       "      <th>12771922</th>\n",
       "      <td>Neil Cicierega: Vivid Memories Turn to Fantasi...</td>\n",
       "      <td>2014</td>\n",
       "      <td>3.0</td>\n",
       "    </tr>\n",
       "  </tbody>\n",
       "</table>\n",
       "<p>1441 rows × 3 columns</p>\n",
       "</div>"
      ],
      "text/plain": [
       "                                                      title  year  duration\n",
       "id                                                                         \n",
       "5257                                              Excuse Me  1915      50.0\n",
       "6366                                     Anton the Terrible  1916      50.0\n",
       "8351                        The Mysterious Mrs. Musslewhite  1917      50.0\n",
       "8384                                           On the Level  1917      50.0\n",
       "8642                                       The Sunset Trail  1917      50.0\n",
       "...                                                     ...   ...       ...\n",
       "11744604                                  Guardians of Life  2020       3.0\n",
       "11833768                    Neil Cicierega: Wow Wow (Audio)  2017       3.0\n",
       "11885402           Dan Aykroyd and Tom Hanks: City of Crime  1987       NaN\n",
       "11911992                           Bleu de Chanel: The Film  2018       1.0\n",
       "12771922  Neil Cicierega: Vivid Memories Turn to Fantasi...  2014       3.0\n",
       "\n",
       "[1441 rows x 3 columns]"
      ]
     },
     "execution_count": 5,
     "metadata": {},
     "output_type": "execute_result"
    }
   ],
   "source": [
    "limit = 1500\n",
    "dfMovies = pd.read_json(f'http://localhost:8000/movies?limit={limit}')\n",
    "dfMovies.set_index('id', inplace=True)\n",
    "dfMovies"
   ]
  },
  {
   "cell_type": "code",
   "execution_count": 20,
   "metadata": {},
   "outputs": [
    {
     "data": {
      "text/plain": [
       "pandas.core.frame.DataFrame"
      ]
     },
     "execution_count": 20,
     "metadata": {},
     "output_type": "execute_result"
    }
   ],
   "source": [
    "type(dfMovies)"
   ]
  },
  {
   "cell_type": "code",
   "execution_count": 7,
   "metadata": {},
   "outputs": [
    {
     "data": {
      "text/html": [
       "<div>\n",
       "<style scoped>\n",
       "    .dataframe tbody tr th:only-of-type {\n",
       "        vertical-align: middle;\n",
       "    }\n",
       "\n",
       "    .dataframe tbody tr th {\n",
       "        vertical-align: top;\n",
       "    }\n",
       "\n",
       "    .dataframe thead th {\n",
       "        text-align: right;\n",
       "    }\n",
       "</style>\n",
       "<table border=\"1\" class=\"dataframe\">\n",
       "  <thead>\n",
       "    <tr style=\"text-align: right;\">\n",
       "      <th></th>\n",
       "      <th>year</th>\n",
       "      <th>movie_count</th>\n",
       "    </tr>\n",
       "  </thead>\n",
       "  <tbody>\n",
       "    <tr>\n",
       "      <th>0</th>\n",
       "      <td>1915</td>\n",
       "      <td>1</td>\n",
       "    </tr>\n",
       "    <tr>\n",
       "      <th>1</th>\n",
       "      <td>1916</td>\n",
       "      <td>1</td>\n",
       "    </tr>\n",
       "    <tr>\n",
       "      <th>2</th>\n",
       "      <td>1917</td>\n",
       "      <td>7</td>\n",
       "    </tr>\n",
       "    <tr>\n",
       "      <th>3</th>\n",
       "      <td>1918</td>\n",
       "      <td>10</td>\n",
       "    </tr>\n",
       "    <tr>\n",
       "      <th>4</th>\n",
       "      <td>1919</td>\n",
       "      <td>10</td>\n",
       "    </tr>\n",
       "    <tr>\n",
       "      <th>...</th>\n",
       "      <td>...</td>\n",
       "      <td>...</td>\n",
       "    </tr>\n",
       "    <tr>\n",
       "      <th>101</th>\n",
       "      <td>2016</td>\n",
       "      <td>15</td>\n",
       "    </tr>\n",
       "    <tr>\n",
       "      <th>102</th>\n",
       "      <td>2017</td>\n",
       "      <td>22</td>\n",
       "    </tr>\n",
       "    <tr>\n",
       "      <th>103</th>\n",
       "      <td>2018</td>\n",
       "      <td>20</td>\n",
       "    </tr>\n",
       "    <tr>\n",
       "      <th>104</th>\n",
       "      <td>2019</td>\n",
       "      <td>28</td>\n",
       "    </tr>\n",
       "    <tr>\n",
       "      <th>105</th>\n",
       "      <td>2020</td>\n",
       "      <td>6</td>\n",
       "    </tr>\n",
       "  </tbody>\n",
       "</table>\n",
       "<p>106 rows × 2 columns</p>\n",
       "</div>"
      ],
      "text/plain": [
       "     year  movie_count\n",
       "0    1915            1\n",
       "1    1916            1\n",
       "2    1917            7\n",
       "3    1918           10\n",
       "4    1919           10\n",
       "..    ...          ...\n",
       "101  2016           15\n",
       "102  2017           22\n",
       "103  2018           20\n",
       "104  2019           28\n",
       "105  2020            6\n",
       "\n",
       "[106 rows x 2 columns]"
      ]
     },
     "execution_count": 7,
     "metadata": {},
     "output_type": "execute_result"
    }
   ],
   "source": [
    "dfStatsMovieByYear = pd.read_json('http://localhost:8000/movies/count_by_year')\n",
    "dfStatsMovieByYear.columns=['year','movie_count']\n",
    "#dfStatsMovieByYear.set_index('year', inplace=True)\n",
    "dfStatsMovieByYear"
   ]
  },
  {
   "cell_type": "code",
   "execution_count": 11,
   "metadata": {},
   "outputs": [
    {
     "data": {
      "text/html": [
       "<div>\n",
       "<style scoped>\n",
       "    .dataframe tbody tr th:only-of-type {\n",
       "        vertical-align: middle;\n",
       "    }\n",
       "\n",
       "    .dataframe tbody tr th {\n",
       "        vertical-align: top;\n",
       "    }\n",
       "\n",
       "    .dataframe thead th {\n",
       "        text-align: right;\n",
       "    }\n",
       "</style>\n",
       "<table border=\"1\" class=\"dataframe\">\n",
       "  <thead>\n",
       "    <tr style=\"text-align: right;\">\n",
       "      <th></th>\n",
       "      <th>0</th>\n",
       "      <th>1</th>\n",
       "    </tr>\n",
       "  </thead>\n",
       "  <tbody>\n",
       "    <tr>\n",
       "      <th>0</th>\n",
       "      <td>{'birthdate': '1899-08-13', 'name': 'Alfred Hi...</td>\n",
       "      <td>60</td>\n",
       "    </tr>\n",
       "    <tr>\n",
       "      <th>1</th>\n",
       "      <td>{'birthdate': '1942-11-17', 'name': 'Martin Sc...</td>\n",
       "      <td>48</td>\n",
       "    </tr>\n",
       "    <tr>\n",
       "      <th>2</th>\n",
       "      <td>{'birthdate': '1946-12-18', 'name': 'Steven Sp...</td>\n",
       "      <td>41</td>\n",
       "    </tr>\n",
       "    <tr>\n",
       "      <th>3</th>\n",
       "      <td>{'birthdate': '1930-05-31', 'name': 'Clint Eas...</td>\n",
       "      <td>39</td>\n",
       "    </tr>\n",
       "    <tr>\n",
       "      <th>4</th>\n",
       "      <td>{'birthdate': '1940-09-11', 'name': 'Brian De ...</td>\n",
       "      <td>38</td>\n",
       "    </tr>\n",
       "    <tr>\n",
       "      <th>5</th>\n",
       "      <td>{'birthdate': '1937-11-30', 'name': 'Ridley Sc...</td>\n",
       "      <td>35</td>\n",
       "    </tr>\n",
       "    <tr>\n",
       "      <th>6</th>\n",
       "      <td>{'birthdate': '1946-09-22', 'name': 'John Woo'...</td>\n",
       "      <td>34</td>\n",
       "    </tr>\n",
       "    <tr>\n",
       "      <th>7</th>\n",
       "      <td>{'birthdate': '1969-10-09', 'name': 'Steve McQ...</td>\n",
       "      <td>31</td>\n",
       "    </tr>\n",
       "    <tr>\n",
       "      <th>8</th>\n",
       "      <td>{'birthdate': '1959-10-23', 'name': 'Sam Raimi...</td>\n",
       "      <td>31</td>\n",
       "    </tr>\n",
       "    <tr>\n",
       "      <th>9</th>\n",
       "      <td>{'birthdate': None, 'name': 'John Ford', 'id':...</td>\n",
       "      <td>20</td>\n",
       "    </tr>\n",
       "    <tr>\n",
       "      <th>10</th>\n",
       "      <td>{'birthdate': '1961-10-31', 'name': 'Peter Jac...</td>\n",
       "      <td>19</td>\n",
       "    </tr>\n",
       "    <tr>\n",
       "      <th>11</th>\n",
       "      <td>{'birthdate': '1956-10-20', 'name': 'Danny Boy...</td>\n",
       "      <td>18</td>\n",
       "    </tr>\n",
       "    <tr>\n",
       "      <th>12</th>\n",
       "      <td>{'birthdate': '1963-03-27', 'name': 'Quentin T...</td>\n",
       "      <td>14</td>\n",
       "    </tr>\n",
       "    <tr>\n",
       "      <th>13</th>\n",
       "      <td>{'birthdate': '1954-08-16', 'name': 'James Cam...</td>\n",
       "      <td>14</td>\n",
       "    </tr>\n",
       "    <tr>\n",
       "      <th>14</th>\n",
       "      <td>{'birthdate': None, 'name': 'Walter Edwards', ...</td>\n",
       "      <td>14</td>\n",
       "    </tr>\n",
       "    <tr>\n",
       "      <th>15</th>\n",
       "      <td>{'birthdate': None, 'name': 'Robert N. Bradbur...</td>\n",
       "      <td>13</td>\n",
       "    </tr>\n",
       "    <tr>\n",
       "      <th>16</th>\n",
       "      <td>{'birthdate': '1970-07-30', 'name': 'Christoph...</td>\n",
       "      <td>13</td>\n",
       "    </tr>\n",
       "    <tr>\n",
       "      <th>17</th>\n",
       "      <td>{'birthdate': '1957-09-21', 'name': 'Ethan Coe...</td>\n",
       "      <td>12</td>\n",
       "    </tr>\n",
       "    <tr>\n",
       "      <th>18</th>\n",
       "      <td>{'birthdate': '1969-09-14', 'name': 'Bong Joon...</td>\n",
       "      <td>12</td>\n",
       "    </tr>\n",
       "    <tr>\n",
       "      <th>19</th>\n",
       "      <td>{'birthdate': '1954-11-29', 'name': 'Joel Coen...</td>\n",
       "      <td>11</td>\n",
       "    </tr>\n",
       "  </tbody>\n",
       "</table>\n",
       "</div>"
      ],
      "text/plain": [
       "                                                    0   1\n",
       "0   {'birthdate': '1899-08-13', 'name': 'Alfred Hi...  60\n",
       "1   {'birthdate': '1942-11-17', 'name': 'Martin Sc...  48\n",
       "2   {'birthdate': '1946-12-18', 'name': 'Steven Sp...  41\n",
       "3   {'birthdate': '1930-05-31', 'name': 'Clint Eas...  39\n",
       "4   {'birthdate': '1940-09-11', 'name': 'Brian De ...  38\n",
       "5   {'birthdate': '1937-11-30', 'name': 'Ridley Sc...  35\n",
       "6   {'birthdate': '1946-09-22', 'name': 'John Woo'...  34\n",
       "7   {'birthdate': '1969-10-09', 'name': 'Steve McQ...  31\n",
       "8   {'birthdate': '1959-10-23', 'name': 'Sam Raimi...  31\n",
       "9   {'birthdate': None, 'name': 'John Ford', 'id':...  20\n",
       "10  {'birthdate': '1961-10-31', 'name': 'Peter Jac...  19\n",
       "11  {'birthdate': '1956-10-20', 'name': 'Danny Boy...  18\n",
       "12  {'birthdate': '1963-03-27', 'name': 'Quentin T...  14\n",
       "13  {'birthdate': '1954-08-16', 'name': 'James Cam...  14\n",
       "14  {'birthdate': None, 'name': 'Walter Edwards', ...  14\n",
       "15  {'birthdate': None, 'name': 'Robert N. Bradbur...  13\n",
       "16  {'birthdate': '1970-07-30', 'name': 'Christoph...  13\n",
       "17  {'birthdate': '1957-09-21', 'name': 'Ethan Coe...  12\n",
       "18  {'birthdate': '1969-09-14', 'name': 'Bong Joon...  12\n",
       "19  {'birthdate': '1954-11-29', 'name': 'Joel Coen...  11"
      ]
     },
     "execution_count": 11,
     "metadata": {},
     "output_type": "execute_result"
    }
   ],
   "source": [
    "#Le résultat n'est pas fameux\n",
    "dfStatsMovieByDirector = pd.read_json('http://localhost:8000/stars/stats_movie_by_director')\n",
    "dfStatsMovieByDirector"
   ]
  },
  {
   "cell_type": "code",
   "execution_count": 17,
   "metadata": {},
   "outputs": [
    {
     "data": {
      "text/plain": [
       "<Response [200]>"
      ]
     },
     "execution_count": 17,
     "metadata": {},
     "output_type": "execute_result"
    }
   ],
   "source": [
    "response = requests.get('http://localhost:8000/stars/stats_movie_by_director')\n",
    "response"
   ]
  },
  {
   "cell_type": "code",
   "execution_count": 18,
   "metadata": {},
   "outputs": [
    {
     "name": "stdout",
     "output_type": "stream",
     "text": [
      "Response OK\n"
     ]
    }
   ],
   "source": [
    "if response .status_code == 200:\n",
    "    print('Response OK')\n",
    "else:\n",
    "    print('Error', status_code, response.json(), sep=', ')"
   ]
  },
  {
   "cell_type": "code",
   "execution_count": 19,
   "metadata": {
    "scrolled": true
   },
   "outputs": [
    {
     "data": {
      "text/plain": [
       "[[{'birthdate': '1899-08-13', 'name': 'Alfred Hitchcock', 'id': 33}, 60],\n",
       " [{'birthdate': '1942-11-17', 'name': 'Martin Scorsese', 'id': 217}, 48],\n",
       " [{'birthdate': '1946-12-18', 'name': 'Steven Spielberg', 'id': 229}, 41],\n",
       " [{'birthdate': '1930-05-31', 'name': 'Clint Eastwood', 'id': 142}, 39],\n",
       " [{'birthdate': '1940-09-11', 'name': 'Brian De Palma', 'id': 361}, 38],\n",
       " [{'birthdate': '1937-11-30', 'name': 'Ridley Scott', 'id': 631}, 35],\n",
       " [{'birthdate': '1946-09-22', 'name': 'John Woo', 'id': 247}, 34],\n",
       " [{'birthdate': '1969-10-09', 'name': 'Steve McQueen', 'id': 2588606}, 31],\n",
       " [{'birthdate': '1959-10-23', 'name': 'Sam Raimi', 'id': 600}, 31],\n",
       " [{'birthdate': None, 'name': 'John Ford', 'id': 406}, 20],\n",
       " [{'birthdate': '1961-10-31', 'name': 'Peter Jackson', 'id': 1392}, 19],\n",
       " [{'birthdate': '1956-10-20', 'name': 'Danny Boyle', 'id': 965}, 18],\n",
       " [{'birthdate': '1963-03-27', 'name': 'Quentin Tarantino', 'id': 233}, 14],\n",
       " [{'birthdate': '1954-08-16', 'name': 'James Cameron', 'id': 116}, 14],\n",
       " [{'birthdate': None, 'name': 'Walter Edwards', 'id': 250445}, 14],\n",
       " [{'birthdate': None, 'name': 'Robert N. Bradbury', 'id': 102908}, 13],\n",
       " [{'birthdate': '1970-07-30', 'name': 'Christopher Nolan', 'id': 634240}, 13],\n",
       " [{'birthdate': '1957-09-21', 'name': 'Ethan Coen', 'id': 1053}, 12],\n",
       " [{'birthdate': '1969-09-14', 'name': 'Bong Joon Ho', 'id': 94435}, 12],\n",
       " [{'birthdate': '1954-11-29', 'name': 'Joel Coen', 'id': 1054}, 11]]"
      ]
     },
     "execution_count": 19,
     "metadata": {},
     "output_type": "execute_result"
    }
   ],
   "source": [
    "data_json = response.json()\n",
    "data_json"
   ]
  },
  {
   "cell_type": "code",
   "execution_count": 23,
   "metadata": {},
   "outputs": [
    {
     "data": {
      "text/plain": [
       "[(33, 'Alfred Hitchcock', '1899-08-13', 60),\n",
       " (217, 'Martin Scorsese', '1942-11-17', 48),\n",
       " (229, 'Steven Spielberg', '1946-12-18', 41),\n",
       " (142, 'Clint Eastwood', '1930-05-31', 39),\n",
       " (361, 'Brian De Palma', '1940-09-11', 38),\n",
       " (631, 'Ridley Scott', '1937-11-30', 35),\n",
       " (247, 'John Woo', '1946-09-22', 34),\n",
       " (2588606, 'Steve McQueen', '1969-10-09', 31),\n",
       " (600, 'Sam Raimi', '1959-10-23', 31),\n",
       " (406, 'John Ford', None, 20),\n",
       " (1392, 'Peter Jackson', '1961-10-31', 19),\n",
       " (965, 'Danny Boyle', '1956-10-20', 18),\n",
       " (233, 'Quentin Tarantino', '1963-03-27', 14),\n",
       " (116, 'James Cameron', '1954-08-16', 14),\n",
       " (250445, 'Walter Edwards', None, 14),\n",
       " (102908, 'Robert N. Bradbury', None, 13),\n",
       " (634240, 'Christopher Nolan', '1970-07-30', 13),\n",
       " (1053, 'Ethan Coen', '1957-09-21', 12),\n",
       " (94435, 'Bong Joon Ho', '1969-09-14', 12),\n",
       " (1054, 'Joel Coen', '1954-11-29', 11)]"
      ]
     },
     "execution_count": 23,
     "metadata": {},
     "output_type": "execute_result"
    }
   ],
   "source": [
    "#Applatir en liste de tuples\n",
    "data_flatten = [(director_dict['id'], director_dict['name'], director_dict['birthdate'], movie_count )\n",
    " for director_dict, movie_count in data_json]\n",
    "data_flatten"
   ]
  },
  {
   "cell_type": "code",
   "execution_count": 25,
   "metadata": {},
   "outputs": [
    {
     "data": {
      "text/plain": [
       "[{'id': 33,\n",
       "  'name': 'Alfred Hitchcock',\n",
       "  'birthdate': '1899-08-13',\n",
       "  'movie_count': 60},\n",
       " {'id': 217,\n",
       "  'name': 'Martin Scorsese',\n",
       "  'birthdate': '1942-11-17',\n",
       "  'movie_count': 48},\n",
       " {'id': 229,\n",
       "  'name': 'Steven Spielberg',\n",
       "  'birthdate': '1946-12-18',\n",
       "  'movie_count': 41},\n",
       " {'id': 142,\n",
       "  'name': 'Clint Eastwood',\n",
       "  'birthdate': '1930-05-31',\n",
       "  'movie_count': 39},\n",
       " {'id': 361,\n",
       "  'name': 'Brian De Palma',\n",
       "  'birthdate': '1940-09-11',\n",
       "  'movie_count': 38},\n",
       " {'id': 631,\n",
       "  'name': 'Ridley Scott',\n",
       "  'birthdate': '1937-11-30',\n",
       "  'movie_count': 35},\n",
       " {'id': 247, 'name': 'John Woo', 'birthdate': '1946-09-22', 'movie_count': 34},\n",
       " {'id': 2588606,\n",
       "  'name': 'Steve McQueen',\n",
       "  'birthdate': '1969-10-09',\n",
       "  'movie_count': 31},\n",
       " {'id': 600,\n",
       "  'name': 'Sam Raimi',\n",
       "  'birthdate': '1959-10-23',\n",
       "  'movie_count': 31},\n",
       " {'id': 406, 'name': 'John Ford', 'birthdate': None, 'movie_count': 20},\n",
       " {'id': 1392,\n",
       "  'name': 'Peter Jackson',\n",
       "  'birthdate': '1961-10-31',\n",
       "  'movie_count': 19},\n",
       " {'id': 965,\n",
       "  'name': 'Danny Boyle',\n",
       "  'birthdate': '1956-10-20',\n",
       "  'movie_count': 18},\n",
       " {'id': 233,\n",
       "  'name': 'Quentin Tarantino',\n",
       "  'birthdate': '1963-03-27',\n",
       "  'movie_count': 14},\n",
       " {'id': 116,\n",
       "  'name': 'James Cameron',\n",
       "  'birthdate': '1954-08-16',\n",
       "  'movie_count': 14},\n",
       " {'id': 250445,\n",
       "  'name': 'Walter Edwards',\n",
       "  'birthdate': None,\n",
       "  'movie_count': 14},\n",
       " {'id': 102908,\n",
       "  'name': 'Robert N. Bradbury',\n",
       "  'birthdate': None,\n",
       "  'movie_count': 13},\n",
       " {'id': 634240,\n",
       "  'name': 'Christopher Nolan',\n",
       "  'birthdate': '1970-07-30',\n",
       "  'movie_count': 13},\n",
       " {'id': 1053,\n",
       "  'name': 'Ethan Coen',\n",
       "  'birthdate': '1957-09-21',\n",
       "  'movie_count': 12},\n",
       " {'id': 94435,\n",
       "  'name': 'Bong Joon Ho',\n",
       "  'birthdate': '1969-09-14',\n",
       "  'movie_count': 12},\n",
       " {'id': 1054,\n",
       "  'name': 'Joel Coen',\n",
       "  'birthdate': '1954-11-29',\n",
       "  'movie_count': 11}]"
      ]
     },
     "execution_count": 25,
     "metadata": {},
     "output_type": "execute_result"
    }
   ],
   "source": [
    "#applatir en list de dicts\n",
    "data_flatten = [{'id':director_dict['id'], 'name':director_dict['name'], \n",
    "                 'birthdate': director_dict['birthdate'], 'movie_count': movie_count }\n",
    " for director_dict, movie_count in data_json]\n",
    "data_flatten"
   ]
  },
  {
   "cell_type": "code",
   "execution_count": 28,
   "metadata": {},
   "outputs": [
    {
     "data": {
      "text/plain": [
       "[{'birthdate': '1899-08-13',\n",
       "  'name': 'Alfred Hitchcock',\n",
       "  'id': 33,\n",
       "  'movie_count': 60},\n",
       " {'birthdate': '1942-11-17',\n",
       "  'name': 'Martin Scorsese',\n",
       "  'id': 217,\n",
       "  'movie_count': 48},\n",
       " {'birthdate': '1946-12-18',\n",
       "  'name': 'Steven Spielberg',\n",
       "  'id': 229,\n",
       "  'movie_count': 41},\n",
       " {'birthdate': '1930-05-31',\n",
       "  'name': 'Clint Eastwood',\n",
       "  'id': 142,\n",
       "  'movie_count': 39},\n",
       " {'birthdate': '1940-09-11',\n",
       "  'name': 'Brian De Palma',\n",
       "  'id': 361,\n",
       "  'movie_count': 38},\n",
       " {'birthdate': '1937-11-30',\n",
       "  'name': 'Ridley Scott',\n",
       "  'id': 631,\n",
       "  'movie_count': 35},\n",
       " {'birthdate': '1946-09-22', 'name': 'John Woo', 'id': 247, 'movie_count': 34},\n",
       " {'birthdate': '1969-10-09',\n",
       "  'name': 'Steve McQueen',\n",
       "  'id': 2588606,\n",
       "  'movie_count': 31},\n",
       " {'birthdate': '1959-10-23',\n",
       "  'name': 'Sam Raimi',\n",
       "  'id': 600,\n",
       "  'movie_count': 31},\n",
       " {'birthdate': None, 'name': 'John Ford', 'id': 406, 'movie_count': 20},\n",
       " {'birthdate': '1961-10-31',\n",
       "  'name': 'Peter Jackson',\n",
       "  'id': 1392,\n",
       "  'movie_count': 19},\n",
       " {'birthdate': '1956-10-20',\n",
       "  'name': 'Danny Boyle',\n",
       "  'id': 965,\n",
       "  'movie_count': 18},\n",
       " {'birthdate': '1963-03-27',\n",
       "  'name': 'Quentin Tarantino',\n",
       "  'id': 233,\n",
       "  'movie_count': 14},\n",
       " {'birthdate': '1954-08-16',\n",
       "  'name': 'James Cameron',\n",
       "  'id': 116,\n",
       "  'movie_count': 14},\n",
       " {'birthdate': None,\n",
       "  'name': 'Walter Edwards',\n",
       "  'id': 250445,\n",
       "  'movie_count': 14},\n",
       " {'birthdate': None,\n",
       "  'name': 'Robert N. Bradbury',\n",
       "  'id': 102908,\n",
       "  'movie_count': 13},\n",
       " {'birthdate': '1970-07-30',\n",
       "  'name': 'Christopher Nolan',\n",
       "  'id': 634240,\n",
       "  'movie_count': 13},\n",
       " {'birthdate': '1957-09-21',\n",
       "  'name': 'Ethan Coen',\n",
       "  'id': 1053,\n",
       "  'movie_count': 12},\n",
       " {'birthdate': '1969-09-14',\n",
       "  'name': 'Bong Joon Ho',\n",
       "  'id': 94435,\n",
       "  'movie_count': 12},\n",
       " {'birthdate': '1954-11-29',\n",
       "  'name': 'Joel Coen',\n",
       "  'id': 1054,\n",
       "  'movie_count': 11}]"
      ]
     },
     "execution_count": 28,
     "metadata": {},
     "output_type": "execute_result"
    }
   ],
   "source": [
    "#applatir en list de dicts efficacement\n",
    "data_flatten = [{**director_dict, 'movie_count': movie_count}\n",
    "               for director_dict, movie_count in data_json]\n",
    "data_flatten"
   ]
  },
  {
   "cell_type": "code",
   "execution_count": 29,
   "metadata": {},
   "outputs": [
    {
     "data": {
      "text/html": [
       "<div>\n",
       "<style scoped>\n",
       "    .dataframe tbody tr th:only-of-type {\n",
       "        vertical-align: middle;\n",
       "    }\n",
       "\n",
       "    .dataframe tbody tr th {\n",
       "        vertical-align: top;\n",
       "    }\n",
       "\n",
       "    .dataframe thead th {\n",
       "        text-align: right;\n",
       "    }\n",
       "</style>\n",
       "<table border=\"1\" class=\"dataframe\">\n",
       "  <thead>\n",
       "    <tr style=\"text-align: right;\">\n",
       "      <th></th>\n",
       "      <th>birthdate</th>\n",
       "      <th>name</th>\n",
       "      <th>movie_count</th>\n",
       "    </tr>\n",
       "    <tr>\n",
       "      <th>id</th>\n",
       "      <th></th>\n",
       "      <th></th>\n",
       "      <th></th>\n",
       "    </tr>\n",
       "  </thead>\n",
       "  <tbody>\n",
       "    <tr>\n",
       "      <th>33</th>\n",
       "      <td>1899-08-13</td>\n",
       "      <td>Alfred Hitchcock</td>\n",
       "      <td>60</td>\n",
       "    </tr>\n",
       "    <tr>\n",
       "      <th>217</th>\n",
       "      <td>1942-11-17</td>\n",
       "      <td>Martin Scorsese</td>\n",
       "      <td>48</td>\n",
       "    </tr>\n",
       "    <tr>\n",
       "      <th>229</th>\n",
       "      <td>1946-12-18</td>\n",
       "      <td>Steven Spielberg</td>\n",
       "      <td>41</td>\n",
       "    </tr>\n",
       "    <tr>\n",
       "      <th>142</th>\n",
       "      <td>1930-05-31</td>\n",
       "      <td>Clint Eastwood</td>\n",
       "      <td>39</td>\n",
       "    </tr>\n",
       "    <tr>\n",
       "      <th>361</th>\n",
       "      <td>1940-09-11</td>\n",
       "      <td>Brian De Palma</td>\n",
       "      <td>38</td>\n",
       "    </tr>\n",
       "    <tr>\n",
       "      <th>631</th>\n",
       "      <td>1937-11-30</td>\n",
       "      <td>Ridley Scott</td>\n",
       "      <td>35</td>\n",
       "    </tr>\n",
       "    <tr>\n",
       "      <th>247</th>\n",
       "      <td>1946-09-22</td>\n",
       "      <td>John Woo</td>\n",
       "      <td>34</td>\n",
       "    </tr>\n",
       "    <tr>\n",
       "      <th>2588606</th>\n",
       "      <td>1969-10-09</td>\n",
       "      <td>Steve McQueen</td>\n",
       "      <td>31</td>\n",
       "    </tr>\n",
       "    <tr>\n",
       "      <th>600</th>\n",
       "      <td>1959-10-23</td>\n",
       "      <td>Sam Raimi</td>\n",
       "      <td>31</td>\n",
       "    </tr>\n",
       "    <tr>\n",
       "      <th>406</th>\n",
       "      <td>None</td>\n",
       "      <td>John Ford</td>\n",
       "      <td>20</td>\n",
       "    </tr>\n",
       "    <tr>\n",
       "      <th>1392</th>\n",
       "      <td>1961-10-31</td>\n",
       "      <td>Peter Jackson</td>\n",
       "      <td>19</td>\n",
       "    </tr>\n",
       "    <tr>\n",
       "      <th>965</th>\n",
       "      <td>1956-10-20</td>\n",
       "      <td>Danny Boyle</td>\n",
       "      <td>18</td>\n",
       "    </tr>\n",
       "    <tr>\n",
       "      <th>233</th>\n",
       "      <td>1963-03-27</td>\n",
       "      <td>Quentin Tarantino</td>\n",
       "      <td>14</td>\n",
       "    </tr>\n",
       "    <tr>\n",
       "      <th>116</th>\n",
       "      <td>1954-08-16</td>\n",
       "      <td>James Cameron</td>\n",
       "      <td>14</td>\n",
       "    </tr>\n",
       "    <tr>\n",
       "      <th>250445</th>\n",
       "      <td>None</td>\n",
       "      <td>Walter Edwards</td>\n",
       "      <td>14</td>\n",
       "    </tr>\n",
       "    <tr>\n",
       "      <th>102908</th>\n",
       "      <td>None</td>\n",
       "      <td>Robert N. Bradbury</td>\n",
       "      <td>13</td>\n",
       "    </tr>\n",
       "    <tr>\n",
       "      <th>634240</th>\n",
       "      <td>1970-07-30</td>\n",
       "      <td>Christopher Nolan</td>\n",
       "      <td>13</td>\n",
       "    </tr>\n",
       "    <tr>\n",
       "      <th>1053</th>\n",
       "      <td>1957-09-21</td>\n",
       "      <td>Ethan Coen</td>\n",
       "      <td>12</td>\n",
       "    </tr>\n",
       "    <tr>\n",
       "      <th>94435</th>\n",
       "      <td>1969-09-14</td>\n",
       "      <td>Bong Joon Ho</td>\n",
       "      <td>12</td>\n",
       "    </tr>\n",
       "    <tr>\n",
       "      <th>1054</th>\n",
       "      <td>1954-11-29</td>\n",
       "      <td>Joel Coen</td>\n",
       "      <td>11</td>\n",
       "    </tr>\n",
       "  </tbody>\n",
       "</table>\n",
       "</div>"
      ],
      "text/plain": [
       "          birthdate                name  movie_count\n",
       "id                                                  \n",
       "33       1899-08-13    Alfred Hitchcock           60\n",
       "217      1942-11-17     Martin Scorsese           48\n",
       "229      1946-12-18    Steven Spielberg           41\n",
       "142      1930-05-31      Clint Eastwood           39\n",
       "361      1940-09-11      Brian De Palma           38\n",
       "631      1937-11-30        Ridley Scott           35\n",
       "247      1946-09-22            John Woo           34\n",
       "2588606  1969-10-09       Steve McQueen           31\n",
       "600      1959-10-23           Sam Raimi           31\n",
       "406            None           John Ford           20\n",
       "1392     1961-10-31       Peter Jackson           19\n",
       "965      1956-10-20         Danny Boyle           18\n",
       "233      1963-03-27   Quentin Tarantino           14\n",
       "116      1954-08-16       James Cameron           14\n",
       "250445         None      Walter Edwards           14\n",
       "102908         None  Robert N. Bradbury           13\n",
       "634240   1970-07-30   Christopher Nolan           13\n",
       "1053     1957-09-21          Ethan Coen           12\n",
       "94435    1969-09-14        Bong Joon Ho           12\n",
       "1054     1954-11-29           Joel Coen           11"
      ]
     },
     "execution_count": 29,
     "metadata": {},
     "output_type": "execute_result"
    }
   ],
   "source": [
    "dfStatsMovieByDirector = pd.DataFrame(data_flatten)\n",
    "dfStatsMovieByDirector.set_index('id', inplace=True)\n",
    "dfStatsMovieByDirector"
   ]
  },
  {
   "cell_type": "code",
   "execution_count": 30,
   "metadata": {},
   "outputs": [
    {
     "data": {
      "text/plain": [
       "'1899-08-13'"
      ]
     },
     "execution_count": 30,
     "metadata": {},
     "output_type": "execute_result"
    }
   ],
   "source": [
    "dfStatsMovieByDirector.loc[33].birthdate"
   ]
  },
  {
   "cell_type": "code",
   "execution_count": 34,
   "metadata": {},
   "outputs": [
    {
     "data": {
      "text/plain": [
       "datetime.date(1899, 8, 13)"
      ]
     },
     "execution_count": 34,
     "metadata": {},
     "output_type": "execute_result"
    }
   ],
   "source": [
    "datetime.strptime('1899-08-13', '%Y-%m-%d').date()"
   ]
  },
  {
   "cell_type": "code",
   "execution_count": 35,
   "metadata": {},
   "outputs": [
    {
     "data": {
      "text/plain": [
       "datetime.date(1899, 8, 13)"
      ]
     },
     "execution_count": 35,
     "metadata": {},
     "output_type": "execute_result"
    }
   ],
   "source": [
    "date.fromisoformat('1899-08-13')"
   ]
  },
  {
   "cell_type": "code",
   "execution_count": 40,
   "metadata": {},
   "outputs": [
    {
     "data": {
      "text/html": [
       "<div>\n",
       "<style scoped>\n",
       "    .dataframe tbody tr th:only-of-type {\n",
       "        vertical-align: middle;\n",
       "    }\n",
       "\n",
       "    .dataframe tbody tr th {\n",
       "        vertical-align: top;\n",
       "    }\n",
       "\n",
       "    .dataframe thead th {\n",
       "        text-align: right;\n",
       "    }\n",
       "</style>\n",
       "<table border=\"1\" class=\"dataframe\">\n",
       "  <thead>\n",
       "    <tr style=\"text-align: right;\">\n",
       "      <th></th>\n",
       "      <th>birthdate</th>\n",
       "      <th>name</th>\n",
       "      <th>movie_count</th>\n",
       "    </tr>\n",
       "    <tr>\n",
       "      <th>id</th>\n",
       "      <th></th>\n",
       "      <th></th>\n",
       "      <th></th>\n",
       "    </tr>\n",
       "  </thead>\n",
       "  <tbody>\n",
       "    <tr>\n",
       "      <th>406</th>\n",
       "      <td>None</td>\n",
       "      <td>John Ford</td>\n",
       "      <td>20</td>\n",
       "    </tr>\n",
       "    <tr>\n",
       "      <th>250445</th>\n",
       "      <td>None</td>\n",
       "      <td>Walter Edwards</td>\n",
       "      <td>14</td>\n",
       "    </tr>\n",
       "    <tr>\n",
       "      <th>102908</th>\n",
       "      <td>None</td>\n",
       "      <td>Robert N. Bradbury</td>\n",
       "      <td>13</td>\n",
       "    </tr>\n",
       "  </tbody>\n",
       "</table>\n",
       "</div>"
      ],
      "text/plain": [
       "       birthdate                name  movie_count\n",
       "id                                               \n",
       "406         None           John Ford           20\n",
       "250445      None      Walter Edwards           14\n",
       "102908      None  Robert N. Bradbury           13"
      ]
     },
     "execution_count": 40,
     "metadata": {},
     "output_type": "execute_result"
    }
   ],
   "source": [
    "dfStatsMovieByDirector[dfStatsMovieByDirector.birthdate.isnull()]"
   ]
  },
  {
   "cell_type": "code",
   "execution_count": 41,
   "metadata": {},
   "outputs": [
    {
     "data": {
      "text/plain": [
       "id\n",
       "33         1899-08-13\n",
       "217        1942-11-17\n",
       "229        1946-12-18\n",
       "142        1930-05-31\n",
       "361        1940-09-11\n",
       "631        1937-11-30\n",
       "247        1946-09-22\n",
       "2588606    1969-10-09\n",
       "600        1959-10-23\n",
       "1392       1961-10-31\n",
       "965        1956-10-20\n",
       "233        1963-03-27\n",
       "116        1954-08-16\n",
       "634240     1970-07-30\n",
       "1053       1957-09-21\n",
       "94435      1969-09-14\n",
       "1054       1954-11-29\n",
       "Name: birthdate, dtype: object"
      ]
     },
     "execution_count": 41,
     "metadata": {},
     "output_type": "execute_result"
    }
   ],
   "source": [
    "dfStatsMovieByDirector[~dfStatsMovieByDirector.birthdate.isnull()].birthdate.apply(date.fromisoformat)"
   ]
  },
  {
   "cell_type": "code",
   "execution_count": 43,
   "metadata": {},
   "outputs": [
    {
     "data": {
      "text/html": [
       "<div>\n",
       "<style scoped>\n",
       "    .dataframe tbody tr th:only-of-type {\n",
       "        vertical-align: middle;\n",
       "    }\n",
       "\n",
       "    .dataframe tbody tr th {\n",
       "        vertical-align: top;\n",
       "    }\n",
       "\n",
       "    .dataframe thead th {\n",
       "        text-align: right;\n",
       "    }\n",
       "</style>\n",
       "<table border=\"1\" class=\"dataframe\">\n",
       "  <thead>\n",
       "    <tr style=\"text-align: right;\">\n",
       "      <th></th>\n",
       "      <th>birthdate</th>\n",
       "      <th>name</th>\n",
       "      <th>movie_count</th>\n",
       "    </tr>\n",
       "    <tr>\n",
       "      <th>id</th>\n",
       "      <th></th>\n",
       "      <th></th>\n",
       "      <th></th>\n",
       "    </tr>\n",
       "  </thead>\n",
       "  <tbody>\n",
       "    <tr>\n",
       "      <th>33</th>\n",
       "      <td>1899-08-13</td>\n",
       "      <td>Alfred Hitchcock</td>\n",
       "      <td>60</td>\n",
       "    </tr>\n",
       "    <tr>\n",
       "      <th>217</th>\n",
       "      <td>1942-11-17</td>\n",
       "      <td>Martin Scorsese</td>\n",
       "      <td>48</td>\n",
       "    </tr>\n",
       "    <tr>\n",
       "      <th>229</th>\n",
       "      <td>1946-12-18</td>\n",
       "      <td>Steven Spielberg</td>\n",
       "      <td>41</td>\n",
       "    </tr>\n",
       "    <tr>\n",
       "      <th>142</th>\n",
       "      <td>1930-05-31</td>\n",
       "      <td>Clint Eastwood</td>\n",
       "      <td>39</td>\n",
       "    </tr>\n",
       "    <tr>\n",
       "      <th>361</th>\n",
       "      <td>1940-09-11</td>\n",
       "      <td>Brian De Palma</td>\n",
       "      <td>38</td>\n",
       "    </tr>\n",
       "    <tr>\n",
       "      <th>631</th>\n",
       "      <td>1937-11-30</td>\n",
       "      <td>Ridley Scott</td>\n",
       "      <td>35</td>\n",
       "    </tr>\n",
       "    <tr>\n",
       "      <th>247</th>\n",
       "      <td>1946-09-22</td>\n",
       "      <td>John Woo</td>\n",
       "      <td>34</td>\n",
       "    </tr>\n",
       "    <tr>\n",
       "      <th>2588606</th>\n",
       "      <td>1969-10-09</td>\n",
       "      <td>Steve McQueen</td>\n",
       "      <td>31</td>\n",
       "    </tr>\n",
       "    <tr>\n",
       "      <th>600</th>\n",
       "      <td>1959-10-23</td>\n",
       "      <td>Sam Raimi</td>\n",
       "      <td>31</td>\n",
       "    </tr>\n",
       "    <tr>\n",
       "      <th>406</th>\n",
       "      <td>None</td>\n",
       "      <td>John Ford</td>\n",
       "      <td>20</td>\n",
       "    </tr>\n",
       "    <tr>\n",
       "      <th>1392</th>\n",
       "      <td>1961-10-31</td>\n",
       "      <td>Peter Jackson</td>\n",
       "      <td>19</td>\n",
       "    </tr>\n",
       "    <tr>\n",
       "      <th>965</th>\n",
       "      <td>1956-10-20</td>\n",
       "      <td>Danny Boyle</td>\n",
       "      <td>18</td>\n",
       "    </tr>\n",
       "    <tr>\n",
       "      <th>233</th>\n",
       "      <td>1963-03-27</td>\n",
       "      <td>Quentin Tarantino</td>\n",
       "      <td>14</td>\n",
       "    </tr>\n",
       "    <tr>\n",
       "      <th>116</th>\n",
       "      <td>1954-08-16</td>\n",
       "      <td>James Cameron</td>\n",
       "      <td>14</td>\n",
       "    </tr>\n",
       "    <tr>\n",
       "      <th>250445</th>\n",
       "      <td>None</td>\n",
       "      <td>Walter Edwards</td>\n",
       "      <td>14</td>\n",
       "    </tr>\n",
       "    <tr>\n",
       "      <th>102908</th>\n",
       "      <td>None</td>\n",
       "      <td>Robert N. Bradbury</td>\n",
       "      <td>13</td>\n",
       "    </tr>\n",
       "    <tr>\n",
       "      <th>634240</th>\n",
       "      <td>1970-07-30</td>\n",
       "      <td>Christopher Nolan</td>\n",
       "      <td>13</td>\n",
       "    </tr>\n",
       "    <tr>\n",
       "      <th>1053</th>\n",
       "      <td>1957-09-21</td>\n",
       "      <td>Ethan Coen</td>\n",
       "      <td>12</td>\n",
       "    </tr>\n",
       "    <tr>\n",
       "      <th>94435</th>\n",
       "      <td>1969-09-14</td>\n",
       "      <td>Bong Joon Ho</td>\n",
       "      <td>12</td>\n",
       "    </tr>\n",
       "    <tr>\n",
       "      <th>1054</th>\n",
       "      <td>1954-11-29</td>\n",
       "      <td>Joel Coen</td>\n",
       "      <td>11</td>\n",
       "    </tr>\n",
       "  </tbody>\n",
       "</table>\n",
       "</div>"
      ],
      "text/plain": [
       "          birthdate                name  movie_count\n",
       "id                                                  \n",
       "33       1899-08-13    Alfred Hitchcock           60\n",
       "217      1942-11-17     Martin Scorsese           48\n",
       "229      1946-12-18    Steven Spielberg           41\n",
       "142      1930-05-31      Clint Eastwood           39\n",
       "361      1940-09-11      Brian De Palma           38\n",
       "631      1937-11-30        Ridley Scott           35\n",
       "247      1946-09-22            John Woo           34\n",
       "2588606  1969-10-09       Steve McQueen           31\n",
       "600      1959-10-23           Sam Raimi           31\n",
       "406            None           John Ford           20\n",
       "1392     1961-10-31       Peter Jackson           19\n",
       "965      1956-10-20         Danny Boyle           18\n",
       "233      1963-03-27   Quentin Tarantino           14\n",
       "116      1954-08-16       James Cameron           14\n",
       "250445         None      Walter Edwards           14\n",
       "102908         None  Robert N. Bradbury           13\n",
       "634240   1970-07-30   Christopher Nolan           13\n",
       "1053     1957-09-21          Ethan Coen           12\n",
       "94435    1969-09-14        Bong Joon Ho           12\n",
       "1054     1954-11-29           Joel Coen           11"
      ]
     },
     "execution_count": 43,
     "metadata": {},
     "output_type": "execute_result"
    }
   ],
   "source": [
    "dfStatsMovieByDirector.birthdate = dfStatsMovieByDirector.birthdate.apply(lambda bd: date.fromisoformat(bd) if bd is not None else None)\n",
    "dfStatsMovieByDirector"
   ]
  },
  {
   "cell_type": "code",
   "execution_count": 46,
   "metadata": {},
   "outputs": [
    {
     "data": {
      "text/plain": [
       "datetime.date(1899, 8, 13)"
      ]
     },
     "execution_count": 46,
     "metadata": {},
     "output_type": "execute_result"
    }
   ],
   "source": [
    "dfStatsMovieByDirector.loc[33].birthdate"
   ]
  },
  {
   "cell_type": "code",
   "execution_count": 50,
   "metadata": {},
   "outputs": [
    {
     "data": {
      "text/html": [
       "<div>\n",
       "<style scoped>\n",
       "    .dataframe tbody tr th:only-of-type {\n",
       "        vertical-align: middle;\n",
       "    }\n",
       "\n",
       "    .dataframe tbody tr th {\n",
       "        vertical-align: top;\n",
       "    }\n",
       "\n",
       "    .dataframe thead th {\n",
       "        text-align: right;\n",
       "    }\n",
       "</style>\n",
       "<table border=\"1\" class=\"dataframe\">\n",
       "  <thead>\n",
       "    <tr style=\"text-align: right;\">\n",
       "      <th></th>\n",
       "      <th>name</th>\n",
       "      <th>birthdate</th>\n",
       "    </tr>\n",
       "    <tr>\n",
       "      <th>id</th>\n",
       "      <th></th>\n",
       "      <th></th>\n",
       "    </tr>\n",
       "  </thead>\n",
       "  <tbody>\n",
       "    <tr>\n",
       "      <th>1</th>\n",
       "      <td>Fred Astaire</td>\n",
       "      <td>1899-01-01</td>\n",
       "    </tr>\n",
       "    <tr>\n",
       "      <th>2</th>\n",
       "      <td>Lauren Bacall</td>\n",
       "      <td>1924-01-01</td>\n",
       "    </tr>\n",
       "    <tr>\n",
       "      <th>3</th>\n",
       "      <td>Brigitte Bardot</td>\n",
       "      <td>1934-01-01</td>\n",
       "    </tr>\n",
       "    <tr>\n",
       "      <th>4</th>\n",
       "      <td>John Belushi</td>\n",
       "      <td>NaT</td>\n",
       "    </tr>\n",
       "    <tr>\n",
       "      <th>6</th>\n",
       "      <td>Ingrid Bergman</td>\n",
       "      <td>1915-01-01</td>\n",
       "    </tr>\n",
       "    <tr>\n",
       "      <th>...</th>\n",
       "      <td>...</td>\n",
       "      <td>...</td>\n",
       "    </tr>\n",
       "    <tr>\n",
       "      <th>3499</th>\n",
       "      <td>Victor Brooks</td>\n",
       "      <td>1918-01-01</td>\n",
       "    </tr>\n",
       "    <tr>\n",
       "      <th>3501</th>\n",
       "      <td>Jamie Gillis</td>\n",
       "      <td>1943-01-01</td>\n",
       "    </tr>\n",
       "    <tr>\n",
       "      <th>3506</th>\n",
       "      <td>James Mangold</td>\n",
       "      <td>NaT</td>\n",
       "    </tr>\n",
       "    <tr>\n",
       "      <th>3593</th>\n",
       "      <td>Fred Zinnemann</td>\n",
       "      <td>NaT</td>\n",
       "    </tr>\n",
       "    <tr>\n",
       "      <th>3620</th>\n",
       "      <td>Kevin Smith</td>\n",
       "      <td>1970-01-01</td>\n",
       "    </tr>\n",
       "  </tbody>\n",
       "</table>\n",
       "<p>1500 rows × 2 columns</p>\n",
       "</div>"
      ],
      "text/plain": [
       "                 name  birthdate\n",
       "id                              \n",
       "1        Fred Astaire 1899-01-01\n",
       "2       Lauren Bacall 1924-01-01\n",
       "3     Brigitte Bardot 1934-01-01\n",
       "4        John Belushi        NaT\n",
       "6      Ingrid Bergman 1915-01-01\n",
       "...               ...        ...\n",
       "3499    Victor Brooks 1918-01-01\n",
       "3501     Jamie Gillis 1943-01-01\n",
       "3506    James Mangold        NaT\n",
       "3593   Fred Zinnemann        NaT\n",
       "3620      Kevin Smith 1970-01-01\n",
       "\n",
       "[1500 rows x 2 columns]"
      ]
     },
     "execution_count": 50,
     "metadata": {},
     "output_type": "execute_result"
    }
   ],
   "source": [
    "#other idea: instead of apply read column birthdate as datetime64 (NaT)\n",
    "dfStars = pd.read_json(f'http://localhost:8000/stars?limit={limit}', convert_dates=['birthdate'])\n",
    "dfStars.set_index('id', inplace=True)\n",
    "dfStars"
   ]
  },
  {
   "cell_type": "markdown",
   "metadata": {},
   "source": [
    "## Graphiques avec matplotlib"
   ]
  },
  {
   "cell_type": "code",
   "execution_count": 79,
   "metadata": {},
   "outputs": [
    {
     "data": {
      "text/plain": [
       "<AxesSubplot:xlabel='name'>"
      ]
     },
     "execution_count": 79,
     "metadata": {},
     "output_type": "execute_result"
    },
    {
     "data": {
      "image/png": "[encoded data removed]",
      "text/plain": [
       "<Figure size 432x288 with 1 Axes>"
      ]
     },
     "metadata": {
      "needs_background": "light"
     },
     "output_type": "display_data"
    }
   ],
   "source": [
    "statsToPlot = dfStatsMovieByDirector[dfStatsMovieByDirector.movie_count > 30][['name','movie_count']] \\\n",
    "    .set_index('name')\n",
    "statsToPlot.plot(kind='bar')"
   ]
  },
  {
   "cell_type": "code",
   "execution_count": 58,
   "metadata": {},
   "outputs": [
    {
     "data": {
      "text/plain": [
       "[<matplotlib.lines.Line2D at 0x1e6bc151eb0>]"
      ]
     },
     "execution_count": 58,
     "metadata": {},
     "output_type": "execute_result"
    },
    {
     "data": {
      "image/png": "[encoded data removed]",
      "text/plain": [
       "<Figure size 432x288 with 1 Axes>"
      ]
     },
     "metadata": {
      "needs_background": "light"
     },
     "output_type": "display_data"
    }
   ],
   "source": [
    "#1 methode par type de graphe: plot, bar, piechart,...\n",
    "plt.plot(dfStatsMovieByDirector.movie_count)"
   ]
  },
  {
   "cell_type": "code",
   "execution_count": 64,
   "metadata": {},
   "outputs": [
    {
     "data": {
      "text/plain": [
       "[<matplotlib.lines.Line2D at 0x1e6bc29d7f0>]"
      ]
     },
     "execution_count": 64,
     "metadata": {},
     "output_type": "execute_result"
    },
    {
     "data": {
      "image/png": "[encoded data removed]",
      "text/plain": [
       "<Figure size 432x288 with 1 Axes>"
      ]
     },
     "metadata": {
      "needs_background": "light"
     },
     "output_type": "display_data"
    }
   ],
   "source": [
    "movie_count_ndarray = dfStatsMovieByDirector.movie_count.values\n",
    "plt.plot(movie_count_ndarray)"
   ]
  },
  {
   "cell_type": "code",
   "execution_count": 67,
   "metadata": {},
   "outputs": [
    {
     "data": {
      "text/plain": [
       "[<matplotlib.lines.Line2D at 0x1e6bc3b6520>]"
      ]
     },
     "execution_count": 67,
     "metadata": {},
     "output_type": "execute_result"
    },
    {
     "data": {
      "image/png": "[encoded data removed]",
      "text/plain": [
       "<Figure size 432x288 with 1 Axes>"
      ]
     },
     "metadata": {
      "needs_background": "light"
     },
     "output_type": "display_data"
    }
   ],
   "source": [
    "# fig: L'ensemble du dessin\n",
    "# ax: 1 tracé\n",
    "fig, ax =  plt.subplots()\n",
    "ax.plot(movie_count_ndarray)"
   ]
  },
  {
   "cell_type": "code",
   "execution_count": 85,
   "metadata": {},
   "outputs": [
    {
     "data": {
      "text/plain": [
       "Text(0.5, 1.0, 'diag bar')"
      ]
     },
     "execution_count": 85,
     "metadata": {},
     "output_type": "execute_result"
    },
    {
     "data": {
      "image/png": "[encoded data removed]",
      "text/plain": [
       "<Figure size 432x288 with 2 Axes>"
      ]
     },
     "metadata": {
      "needs_background": "light"
     },
     "output_type": "display_data"
    }
   ],
   "source": [
    "fig, (ax1, ax2) =  plt.subplots(1,2)\n",
    "ax1.plot(movie_count_ndarray)\n",
    "ax1.set_xlabel('x')\n",
    "ax1.set_ylabel('movie count')\n",
    "ax1.set_title('diag plot')\n",
    "#tracé 2 sur aw2\n",
    "statsToPlot.plot(kind='bar', ax=ax2)\n",
    "ax2.set_title('diag bar')"
   ]
  },
  {
   "cell_type": "code",
   "execution_count": 90,
   "metadata": {},
   "outputs": [],
   "source": [
    "x = np.arange(1000)\n",
    "y = x**2+1"
   ]
  },
  {
   "cell_type": "code",
   "execution_count": 96,
   "metadata": {},
   "outputs": [
    {
     "data": {
      "image/png": "[encoded data removed]",
      "text/plain": [
       "<Figure size 432x288 with 1 Axes>"
      ]
     },
     "metadata": {
      "needs_background": "light"
     },
     "output_type": "display_data"
    }
   ],
   "source": [
    "fig, ax = plt.subplots()\n",
    "ax.plot(x,y)\n",
    "ax.set_xlim(0,800)\n",
    "# graduation majeure sur l'axe des (x axis)\n",
    "ax.xaxis.set_major_locator(ticker.MultipleLocator(200))\n",
    "# graduation mineure sur l'axe des (x axis) \n",
    "ax.xaxis.set_minor_locator(ticker.MultipleLocator(50))"
   ]
  },
  {
   "cell_type": "code",
   "execution_count": 92,
   "metadata": {},
   "outputs": [
    {
     "data": {
      "text/plain": [
       "(0.0, 400.0)"
      ]
     },
     "execution_count": 92,
     "metadata": {},
     "output_type": "execute_result"
    }
   ],
   "source": [
    "x = np.linspace(0,2*np.pi, 1000)\n",
    "y = np.sin(x)"
   ]
  },
  {
   "cell_type": "code",
   "execution_count": null,
   "metadata": {},
   "outputs": [],
   "source": []
  }
 ],
 "metadata": {
  "kernelspec": {
   "display_name": "Python 3",
   "language": "python",
   "name": "python3"
  },
  "language_info": {
   "codemirror_mode": {
    "name": "ipython",
    "version": 3
   },
   "file_extension": ".py",
   "mimetype": "text/x-python",
   "name": "python",
   "nbconvert_exporter": "python",
   "pygments_lexer": "ipython3",
   "version": "3.8.5"
  }
 },
 "nbformat": 4,
 "nbformat_minor": 4
}
